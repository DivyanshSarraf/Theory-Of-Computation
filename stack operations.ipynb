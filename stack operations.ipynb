{
 "cells": [
  {
   "cell_type": "markdown",
   "metadata": {},
   "source": [
    "THIS IS FOR STACK OPERATIONS"
   ]
  },
  {
   "cell_type": "code",
   "execution_count": 1,
   "metadata": {},
   "outputs": [],
   "source": [
    "class stack:\n",
    "    def __init__(self):\n",
    "        self.items=[]\n",
    "    def push(self,item):\n",
    "        self.items.append(item)\n",
    "    def pop(self):\n",
    "        self.items.pop()\n",
    "    def size(self):\n",
    "        print(\"The length of the stack is=\",len(self.items))\n",
    "    def isempty(self):\n",
    "        if self.items==[]:\n",
    "            print(\"Empty\")\n",
    "        else:\n",
    "            print(\"Not empty\")\n",
    "    def display(self):\n",
    "        print(self.items)\n"
   ]
  },
  {
   "cell_type": "code",
   "execution_count": 3,
   "metadata": {},
   "outputs": [
    {
     "name": "stdout",
     "output_type": "stream",
     "text": [
      "[2]\n",
      "The length of the stack is= 1\n",
      "Not empty\n"
     ]
    }
   ],
   "source": [
    "s1=stack()\n",
    "s1.push(2)\n",
    "s1.display()\n",
    "s1.size()\n",
    "s1.isempty()"
   ]
  },
  {
   "cell_type": "code",
   "execution_count": 4,
   "metadata": {},
   "outputs": [
    {
     "name": "stdout",
     "output_type": "stream",
     "text": [
      "[2, 6]\n",
      "The length of the stack is= 2\n",
      "Not empty\n"
     ]
    }
   ],
   "source": [
    "s1.push(6)\n",
    "s1.display()\n",
    "s1.size()\n",
    "s1.isempty()"
   ]
  },
  {
   "cell_type": "code",
   "execution_count": 5,
   "metadata": {},
   "outputs": [
    {
     "name": "stdout",
     "output_type": "stream",
     "text": [
      "[2, 6, 2]\n",
      "The length of the stack is= 3\n",
      "Not empty\n"
     ]
    }
   ],
   "source": [
    "s1.push(2)\n",
    "s1.display()\n",
    "s1.size()\n",
    "s1.isempty()"
   ]
  },
  {
   "cell_type": "code",
   "execution_count": 6,
   "metadata": {},
   "outputs": [
    {
     "name": "stdout",
     "output_type": "stream",
     "text": [
      "[2, 6, 2, 5]\n",
      "The length of the stack is= 4\n",
      "Not empty\n"
     ]
    }
   ],
   "source": [
    "s1.push(5)\n",
    "s1.display()\n",
    "s1.size()\n",
    "s1.isempty()\n"
   ]
  },
  {
   "cell_type": "code",
   "execution_count": 7,
   "metadata": {},
   "outputs": [
    {
     "name": "stdout",
     "output_type": "stream",
     "text": [
      "[2, 6, 2]\n",
      "The length of the stack is= 3\n",
      "Not empty\n"
     ]
    }
   ],
   "source": [
    "s1.pop()\n",
    "s1.display()\n",
    "s1.size()\n",
    "s1.isempty()"
   ]
  },
  {
   "cell_type": "code",
   "execution_count": 8,
   "metadata": {},
   "outputs": [
    {
     "name": "stdout",
     "output_type": "stream",
     "text": [
      "[2, 6, 2, 23]\n",
      "The length of the stack is= 4\n",
      "Not empty\n"
     ]
    }
   ],
   "source": [
    "s1.push(23)\n",
    "s1.display()\n",
    "s1.size()\n",
    "s1.isempty()"
   ]
  },
  {
   "cell_type": "code",
   "execution_count": 9,
   "metadata": {},
   "outputs": [
    {
     "name": "stdout",
     "output_type": "stream",
     "text": [
      "[2, 6, 2]\n",
      "The length of the stack is= 3\n",
      "Not empty\n"
     ]
    }
   ],
   "source": [
    "s1.pop()\n",
    "s1.display()\n",
    "s1.size()\n",
    "s1.isempty()"
   ]
  },
  {
   "cell_type": "markdown",
   "metadata": {},
   "source": [
    "THIS IS FILE OPERATIONS"
   ]
  },
  {
   "cell_type": "code",
   "execution_count": 10,
   "metadata": {},
   "outputs": [
    {
     "name": "stdin",
     "output_type": "stream",
     "text": [
      "Write th file name you want divyansh.txt\n"
     ]
    },
    {
     "name": "stdout",
     "output_type": "stream",
     "text": [
      "5\n"
     ]
    }
   ],
   "source": [
    "#f=open(\"Divyansh.txt\",\"x\")\n",
    "f=open(\"divyansh.txt\",\"w\")\n",
    "f.write(\"This is my first file\")\n",
    "words=0\n",
    "f.close()\n",
    "fi=input(\"Write th file name you want\")\n",
    "with open(fi,'r') as file:\n",
    "    for line in file:\n",
    "        l=line.split()\n",
    "        words=words+len(l)\n",
    "print(words)      "
   ]
  },
  {
   "cell_type": "markdown",
   "metadata": {},
   "source": [
    "THIS IS FOR WRITE AND READ OPERATIONS"
   ]
  },
  {
   "cell_type": "code",
   "execution_count": 15,
   "metadata": {},
   "outputs": [],
   "source": [
    "#f=open(\"divyansh1.txt\",\"x\")\n",
    "f=open(\"divyansh1.txt\",\"w\")\n",
    "f.write(\"This is first file\")\n",
    "f.close()\n",
    "f=open(\"divyansh.txt\",\"r\")"
   ]
  },
  {
   "cell_type": "markdown",
   "metadata": {},
   "source": [
    "THIS IS FOR STRING PARENTHESIS"
   ]
  },
  {
   "cell_type": "code",
   "execution_count": 1,
   "metadata": {},
   "outputs": [
    {
     "name": "stdin",
     "output_type": "stream",
     "text": [
      "Enter the string ((()))\n"
     ]
    },
    {
     "name": "stdout",
     "output_type": "stream",
     "text": [
      "((()))\n",
      "balanced\n"
     ]
    }
   ],
   "source": [
    "class stack:\n",
    "    def __init__ (self):\n",
    "        self.items=[]\n",
    "    def push(self,item):\n",
    "        self.items.append(item)\n",
    "    def pop(self):\n",
    "        return self.items.pop()\n",
    "    def isempty(self):\n",
    "        return self.items==[]\n",
    "    def size(self):\n",
    "        return len(self.items)\n",
    "s=stack()\n",
    "a=input(\"Enter the string\")\n",
    "print(a)\n",
    "for i in range(len(a)):\n",
    "    if a[i]==\"(\":\n",
    "        s.push(a[i])\n",
    "    elif a[i]==\")\":\n",
    "        if s.isempty():\n",
    "            print(\"unbalanced\")\n",
    "            break\n",
    "        else:\n",
    "            s.pop()\n",
    "            if s.isempty() and i==(len(a)-1):\n",
    "                print(\"balanced\")\n"
   ]
  },
  {
   "cell_type": "code",
   "execution_count": null,
   "metadata": {},
   "outputs": [],
   "source": []
  }
 ],
 "metadata": {
  "kernelspec": {
   "display_name": "Python 3",
   "language": "python",
   "name": "python3"
  },
  "language_info": {
   "codemirror_mode": {
    "name": "ipython",
    "version": 3
   },
   "file_extension": ".py",
   "mimetype": "text/x-python",
   "name": "python",
   "nbconvert_exporter": "python",
   "pygments_lexer": "ipython3",
   "version": "3.7.3"
  }
 },
 "nbformat": 4,
 "nbformat_minor": 4
}
