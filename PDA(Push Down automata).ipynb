{
 "cells": [
  {
   "cell_type": "markdown",
   "metadata": {},
   "source": [
    "# a^nb^n where n>=1"
   ]
  },
  {
   "cell_type": "code",
   "execution_count": 1,
   "metadata": {},
   "outputs": [
    {
     "name": "stdout",
     "output_type": "stream",
     "text": [
      "Enter a string:aaaa\n",
      "['a']\n",
      "['a', 'a']\n",
      "['a', 'a', 'a']\n",
      "['a', 'a', 'a', 'a']\n",
      "NOt acceptable\n"
     ]
    }
   ],
   "source": [
    "class Stack:\n",
    "    def __init__(self):\n",
    "        self.l=[]\n",
    "    def push(self,x):\n",
    "        self.l.append(x)\n",
    "        print(self.l)\n",
    "    def pop(self):\n",
    "        self.l.pop()\n",
    "        print(self.l)\n",
    "    def isempty(self):\n",
    "        return self.l==[]\n",
    "ip=Stack()\n",
    "n=input(\"Enter a string:\")\n",
    "for i in n:\n",
    "    if(i=='a'):\n",
    "        ip.push(i)\n",
    "    elif(i=='b'):\n",
    "        ip.pop()\n",
    "if(ip.isempty()):\n",
    "    print(\"PDA is acceptable\")\n",
    "else:\n",
    "    print(\"NOt acceptable\")\n"
   ]
  },
  {
   "cell_type": "markdown",
   "metadata": {},
   "source": [
    "# a^nb^nc^m   where m=2n and m,n>=1"
   ]
  },
  {
   "cell_type": "code",
   "execution_count": 2,
   "metadata": {},
   "outputs": [
    {
     "name": "stdout",
     "output_type": "stream",
     "text": [
      "Enter a string:aaabbbaaa\n",
      "['a']\n",
      "['a', 'a']\n",
      "['a', 'a', 'a']\n",
      "['a', 'a', 'a', 'b']\n",
      "['a', 'a', 'a', 'b', 'b']\n",
      "['a', 'a', 'a', 'b', 'b', 'b']\n",
      "['a', 'a', 'a', 'b', 'b', 'b', 'a']\n",
      "['a', 'a', 'a', 'b', 'b', 'b', 'a', 'a']\n",
      "['a', 'a', 'a', 'b', 'b', 'b', 'a', 'a', 'a']\n",
      "Not acceptable\n"
     ]
    }
   ],
   "source": [
    "class Stack:\n",
    "    def __init__(self):\n",
    "        self.l=[]\n",
    "    def push(self,x):\n",
    "        self.l.append(x)\n",
    "        print(self.l)\n",
    "    def pop(self):\n",
    "        self.l.pop()\n",
    "        print(self.l)\n",
    "    def isempty(self):\n",
    "        return self.l==[]\n",
    "ip=Stack()\n",
    "n=input(\"Enter a string:\")\n",
    "for i in n:\n",
    "    if(i=='a'):\n",
    "        ip.push(i)\n",
    "    if(i=='b'):\n",
    "        ip.push(i)\n",
    "    elif(i=='c'):\n",
    "        ip.pop()\n",
    "if(ip.isempty()):\n",
    "    print(\"PDA is acceptable\")\n",
    "else:\n",
    "    print(\"Not acceptable\")\n"
   ]
  },
  {
   "cell_type": "code",
   "execution_count": null,
   "metadata": {},
   "outputs": [],
   "source": []
  },
  {
   "cell_type": "code",
   "execution_count": null,
   "metadata": {},
   "outputs": [],
   "source": []
  },
  {
   "cell_type": "code",
   "execution_count": null,
   "metadata": {},
   "outputs": [],
   "source": []
  },
  {
   "cell_type": "code",
   "execution_count": null,
   "metadata": {},
   "outputs": [],
   "source": []
  }
 ],
 "metadata": {
  "kernelspec": {
   "display_name": "Python 3",
   "language": "python",
   "name": "python3"
  },
  "language_info": {
   "codemirror_mode": {
    "name": "ipython",
    "version": 3
   },
   "file_extension": ".py",
   "mimetype": "text/x-python",
   "name": "python",
   "nbconvert_exporter": "python",
   "pygments_lexer": "ipython3",
   "version": "3.7.2"
  }
 },
 "nbformat": 4,
 "nbformat_minor": 2
}
