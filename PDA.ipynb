{
 "cells": [
  {
   "cell_type": "markdown",
   "metadata": {},
   "source": [
    "PDA that accepts string a^nb^n where n>=1"
   ]
  },
  {
   "cell_type": "code",
   "execution_count": 39,
   "metadata": {},
   "outputs": [],
   "source": [
    "class S:\n",
    "    def __init__(self,exp):\n",
    "        self.l = []\n",
    "        self.exp=exp\n",
    "    def is_empty(self):\n",
    "        return self.l == []\n",
    " \n",
    "    def push(self, data):\n",
    "        self.l.append(data)\n",
    " \n",
    "    def pop(self):\n",
    "        return self.l.pop()\n",
    "    def check(self):\n",
    "        print(self.exp)\n",
    "        for e in self.exp:\n",
    "            if e == 'a':\n",
    "                s.push(1)\n",
    "            elif e == 'b':\n",
    "                if s.is_empty():\n",
    "                    balanced = False\n",
    "                    break\n",
    "                s.pop()\n",
    "        else:\n",
    "            if s.is_empty() and len(self.exp)>0:\n",
    "                balanced = True\n",
    "            else:\n",
    "                balanced = False\n",
    "        if balanced:\n",
    "            print('accepted string')\n",
    "        else:\n",
    "            print('not accepted string')\n"
   ]
  },
  {
   "cell_type": "code",
   "execution_count": 40,
   "metadata": {},
   "outputs": [
    {
     "name": "stdout",
     "output_type": "stream",
     "text": [
      "aaa\n",
      "not accepted string\n"
     ]
    }
   ],
   "source": [
    "s=S('aaa')\n",
    "s.check()"
   ]
  },
  {
   "cell_type": "code",
   "execution_count": 42,
   "metadata": {},
   "outputs": [
    {
     "name": "stdout",
     "output_type": "stream",
     "text": [
      "\n",
      "not accepted string\n"
     ]
    }
   ],
   "source": [
    "s=S('')\n",
    "s.check()"
   ]
  },
  {
   "cell_type": "code",
   "execution_count": 44,
   "metadata": {},
   "outputs": [
    {
     "name": "stdout",
     "output_type": "stream",
     "text": [
      "aabb\n",
      "accepted string\n"
     ]
    }
   ],
   "source": [
    "s=S('aabb')\n",
    "s.check()"
   ]
  },
  {
   "cell_type": "code",
   "execution_count": 46,
   "metadata": {},
   "outputs": [
    {
     "name": "stdout",
     "output_type": "stream",
     "text": [
      "bbaa\n",
      "not accepted string\n"
     ]
    }
   ],
   "source": [
    "s=S('bbaa')\n",
    "s.check()"
   ]
  },
  {
   "cell_type": "code",
   "execution_count": 48,
   "metadata": {},
   "outputs": [
    {
     "name": "stdout",
     "output_type": "stream",
     "text": [
      "aaabbb\n",
      "accepted string\n"
     ]
    }
   ],
   "source": [
    "s=S('aaabbb')\n",
    "s.check()"
   ]
  },
  {
   "cell_type": "code",
   "execution_count": null,
   "metadata": {},
   "outputs": [],
   "source": []
  }
 ],
 "metadata": {
  "kernelspec": {
   "display_name": "Python 3",
   "language": "python",
   "name": "python3"
  },
  "language_info": {
   "codemirror_mode": {
    "name": "ipython",
    "version": 3
   },
   "file_extension": ".py",
   "mimetype": "text/x-python",
   "name": "python",
   "nbconvert_exporter": "python",
   "pygments_lexer": "ipython3",
   "version": "3.7.2"
  }
 },
 "nbformat": 4,
 "nbformat_minor": 2
}
